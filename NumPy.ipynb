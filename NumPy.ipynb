{
 "cells": [
  {
   "cell_type": "raw",
   "id": "408239b1",
   "metadata": {},
   "source": [
    "Numpy-> Numerical Python, module or library that is avaialable in python for scientific \n",
    "objecting also, it helps in creating 1D,2D and multi-dimensional arrays and tools for \n",
    "working with those arrays."
   ]
  },
  {
   "cell_type": "code",
   "execution_count": 1,
   "id": "e3995871",
   "metadata": {},
   "outputs": [],
   "source": [
    "import numpy as np"
   ]
  },
  {
   "cell_type": "code",
   "execution_count": 5,
   "id": "a03930c4",
   "metadata": {},
   "outputs": [
    {
     "data": {
      "text/plain": [
       "numpy.ndarray"
      ]
     },
     "execution_count": 5,
     "metadata": {},
     "output_type": "execute_result"
    }
   ],
   "source": [
    "array_1=np.array([1,2,3,45,6])\n",
    "type(array_1)"
   ]
  },
  {
   "cell_type": "code",
   "execution_count": 4,
   "id": "2e0cf3bd",
   "metadata": {},
   "outputs": [
    {
     "data": {
      "text/plain": [
       "array([10, 20, 34, 45, 63])"
      ]
     },
     "execution_count": 4,
     "metadata": {},
     "output_type": "execute_result"
    }
   ],
   "source": [
    "array_2=np.array((10,20,34,45,63))\n",
    "array_2"
   ]
  },
  {
   "cell_type": "code",
   "execution_count": 6,
   "id": "ec27cd09",
   "metadata": {},
   "outputs": [
    {
     "data": {
      "text/plain": [
       "array([[1, 2, 3],\n",
       "       [3, 4, 5]])"
      ]
     },
     "execution_count": 6,
     "metadata": {},
     "output_type": "execute_result"
    }
   ],
   "source": [
    "np.array([[1,2,3],[3,4,5]])"
   ]
  },
  {
   "cell_type": "code",
   "execution_count": 9,
   "id": "a6532b8d",
   "metadata": {},
   "outputs": [
    {
     "name": "stdout",
     "output_type": "stream",
     "text": [
      "[[1, 2, 3], [3, 4, 5]]\n"
     ]
    }
   ],
   "source": [
    "list_1=[[1,2,3],[3,4,5]]\n",
    "print(list_1)"
   ]
  },
  {
   "cell_type": "code",
   "execution_count": 11,
   "id": "9cc51797",
   "metadata": {},
   "outputs": [
    {
     "data": {
      "text/plain": [
       "3"
      ]
     },
     "execution_count": 11,
     "metadata": {},
     "output_type": "execute_result"
    }
   ],
   "source": [
    "list_1[1][0]"
   ]
  },
  {
   "cell_type": "code",
   "execution_count": 12,
   "id": "6199b56f",
   "metadata": {},
   "outputs": [
    {
     "name": "stdout",
     "output_type": "stream",
     "text": [
      "[4, 6, 8, 11]\n"
     ]
    }
   ],
   "source": [
    "list_1=[1,2,3,4]\n",
    "list_2=[3,4,5,7]\n",
    "list_3=[]\n",
    "for i,j in zip(list_2,list_1):\n",
    "    list_3.append(i+j)\n",
    "print(list_3)"
   ]
  },
  {
   "cell_type": "code",
   "execution_count": 13,
   "id": "ca86fefc",
   "metadata": {},
   "outputs": [
    {
     "data": {
      "text/plain": [
       "array([ 4,  6,  8, 10])"
      ]
     },
     "execution_count": 13,
     "metadata": {},
     "output_type": "execute_result"
    }
   ],
   "source": [
    "x=np.array([1,2,3,4])\n",
    "y=np.array([3,4,5,6])\n",
    "x+y"
   ]
  },
  {
   "cell_type": "code",
   "execution_count": 14,
   "id": "c281119c",
   "metadata": {},
   "outputs": [
    {
     "data": {
      "text/plain": [
       "array([ 3,  8, 15, 24])"
      ]
     },
     "execution_count": 14,
     "metadata": {},
     "output_type": "execute_result"
    }
   ],
   "source": [
    "x*y"
   ]
  },
  {
   "cell_type": "code",
   "execution_count": 15,
   "id": "322684e9",
   "metadata": {},
   "outputs": [
    {
     "data": {
      "text/plain": [
       "array([-2, -2, -2, -2])"
      ]
     },
     "execution_count": 15,
     "metadata": {},
     "output_type": "execute_result"
    }
   ],
   "source": [
    "x-y"
   ]
  },
  {
   "cell_type": "code",
   "execution_count": 16,
   "id": "8acb235b",
   "metadata": {},
   "outputs": [
    {
     "data": {
      "text/plain": [
       "array([0.33333333, 0.5       , 0.6       , 0.66666667])"
      ]
     },
     "execution_count": 16,
     "metadata": {},
     "output_type": "execute_result"
    }
   ],
   "source": [
    "x/y"
   ]
  },
  {
   "cell_type": "code",
   "execution_count": null,
   "id": "11b8523c",
   "metadata": {},
   "outputs": [],
   "source": [
    "---->less memory consumption.\n",
    "-----> fast \n",
    "----->convinience."
   ]
  },
  {
   "cell_type": "code",
   "execution_count": 35,
   "id": "6b3dcdd3",
   "metadata": {},
   "outputs": [
    {
     "data": {
      "text/plain": [
       "array([[10. , 20. , 40. ],\n",
       "       [45. , 67.6, 34. ],\n",
       "       [30. , 45. , 23. ]])"
      ]
     },
     "execution_count": 35,
     "metadata": {},
     "output_type": "execute_result"
    }
   ],
   "source": [
    "mat=np.array([[10,20,40],[45,67.6,34],[30,45,23]])\n",
    "mat"
   ]
  },
  {
   "cell_type": "code",
   "execution_count": 36,
   "id": "5b149f89",
   "metadata": {},
   "outputs": [
    {
     "data": {
      "text/plain": [
       "(3, 3)"
      ]
     },
     "execution_count": 36,
     "metadata": {},
     "output_type": "execute_result"
    }
   ],
   "source": [
    "mat.shape"
   ]
  },
  {
   "cell_type": "code",
   "execution_count": 37,
   "id": "53eb5bf5",
   "metadata": {},
   "outputs": [
    {
     "data": {
      "text/plain": [
       "9"
      ]
     },
     "execution_count": 37,
     "metadata": {},
     "output_type": "execute_result"
    }
   ],
   "source": [
    "mat.size"
   ]
  },
  {
   "cell_type": "code",
   "execution_count": 38,
   "id": "b56dab7f",
   "metadata": {},
   "outputs": [
    {
     "data": {
      "text/plain": [
       "2"
      ]
     },
     "execution_count": 38,
     "metadata": {},
     "output_type": "execute_result"
    }
   ],
   "source": [
    "mat.ndim  #dimension"
   ]
  },
  {
   "cell_type": "code",
   "execution_count": 39,
   "id": "be5d48ab",
   "metadata": {},
   "outputs": [
    {
     "data": {
      "text/plain": [
       "dtype('float64')"
      ]
     },
     "execution_count": 39,
     "metadata": {},
     "output_type": "execute_result"
    }
   ],
   "source": [
    "mat.dtype"
   ]
  },
  {
   "cell_type": "markdown",
   "id": "4edd36df",
   "metadata": {},
   "source": [
    "# How to create basic arrays:"
   ]
  },
  {
   "cell_type": "code",
   "execution_count": 40,
   "id": "9ff30056",
   "metadata": {},
   "outputs": [
    {
     "data": {
      "text/plain": [
       "array([1, 3, 5, 7, 9])"
      ]
     },
     "execution_count": 40,
     "metadata": {},
     "output_type": "execute_result"
    }
   ],
   "source": [
    "np.arange(1,10,2)   #only for 1D"
   ]
  },
  {
   "cell_type": "code",
   "execution_count": 42,
   "id": "f2357f51",
   "metadata": {},
   "outputs": [
    {
     "data": {
      "text/plain": [
       "array([100, 101, 102, 103, 104, 105, 106, 107, 108, 109, 110, 111, 112,\n",
       "       113, 114, 115, 116, 117, 118, 119, 120, 121, 122, 123, 124, 125,\n",
       "       126, 127, 128, 129, 130, 131, 132, 133, 134, 135, 136, 137, 138,\n",
       "       139, 140, 141, 142, 143, 144, 145, 146, 147, 148, 149, 150, 151,\n",
       "       152, 153, 154, 155, 156, 157, 158, 159, 160, 161, 162, 163, 164,\n",
       "       165, 166, 167, 168, 169, 170, 171, 172, 173, 174, 175, 176, 177,\n",
       "       178, 179, 180, 181, 182, 183, 184, 185, 186, 187, 188, 189, 190,\n",
       "       191, 192, 193, 194, 195, 196, 197, 198, 199])"
      ]
     },
     "execution_count": 42,
     "metadata": {},
     "output_type": "execute_result"
    }
   ],
   "source": [
    "dim_1=np.arange(100,200)  \n",
    "dim_1"
   ]
  },
  {
   "cell_type": "code",
   "execution_count": 54,
   "id": "56597d68",
   "metadata": {},
   "outputs": [
    {
     "data": {
      "text/plain": [
       "array([[100, 101, 102, 103, 104, 105, 106, 107, 108, 109],\n",
       "       [110, 111, 112, 113, 114, 115, 116, 117, 118, 119],\n",
       "       [120, 121, 122, 123, 124, 125, 126, 127, 128, 129],\n",
       "       [130, 131, 132, 133, 134, 135, 136, 137, 138, 139],\n",
       "       [140, 141, 142, 143, 144, 145, 146, 147, 148, 149],\n",
       "       [150, 151, 152, 153, 154, 155, 156, 157, 158, 159],\n",
       "       [160, 161, 162, 163, 164, 165, 166, 167, 168, 169],\n",
       "       [170, 171, 172, 173, 174, 175, 176, 177, 178, 179],\n",
       "       [180, 181, 182, 183, 184, 185, 186, 187, 188, 189],\n",
       "       [190, 191, 192, 193, 194, 195, 196, 197, 198, 199]])"
      ]
     },
     "execution_count": 54,
     "metadata": {},
     "output_type": "execute_result"
    }
   ],
   "source": [
    "dim_1.reshape(10,10,)"
   ]
  },
  {
   "cell_type": "code",
   "execution_count": 51,
   "id": "64fd7131",
   "metadata": {},
   "outputs": [
    {
     "data": {
      "text/plain": [
       "array([[[1, 2],\n",
       "        [3, 4]],\n",
       "\n",
       "       [[5, 6],\n",
       "        [7, 8]]])"
      ]
     },
     "execution_count": 51,
     "metadata": {},
     "output_type": "execute_result"
    }
   ],
   "source": [
    "a=np.array([1,2,3,4,5,6,7,8])\n",
    "a.reshape(2,2,-1)"
   ]
  },
  {
   "cell_type": "code",
   "execution_count": 57,
   "id": "b1f9163e",
   "metadata": {},
   "outputs": [
    {
     "data": {
      "text/plain": [
       "array([[0, 0, 0, 0, 0],\n",
       "       [0, 0, 0, 0, 0],\n",
       "       [0, 0, 0, 0, 0],\n",
       "       [0, 0, 0, 0, 0],\n",
       "       [0, 0, 0, 0, 0]])"
      ]
     },
     "execution_count": 57,
     "metadata": {},
     "output_type": "execute_result"
    }
   ],
   "source": [
    "#array of zeros\n",
    "np.zeros(shape=(5,5),dtype=\"int\")"
   ]
  },
  {
   "cell_type": "code",
   "execution_count": 60,
   "id": "8c0f1515",
   "metadata": {},
   "outputs": [
    {
     "data": {
      "text/plain": [
       "array([[1],\n",
       "       [1],\n",
       "       [1],\n",
       "       [1],\n",
       "       [1],\n",
       "       [1],\n",
       "       [1],\n",
       "       [1],\n",
       "       [1],\n",
       "       [1]])"
      ]
     },
     "execution_count": 60,
     "metadata": {},
     "output_type": "execute_result"
    }
   ],
   "source": [
    "np.ones(shape=(10,1),dtype=\"int\")"
   ]
  },
  {
   "cell_type": "code",
   "execution_count": 87,
   "id": "14612f60",
   "metadata": {},
   "outputs": [
    {
     "data": {
      "text/plain": [
       "array([[ 9.12047166e-02,  1.09128273e+00, -1.94697031e+00,\n",
       "        -1.38634953e+00, -2.29649157e+00,  2.40983430e+00,\n",
       "         1.72783617e+00,  2.20455628e+00,  7.94827639e-01,\n",
       "         9.76421096e-01],\n",
       "       [-1.18342715e+00,  1.91636361e+00, -1.12332680e+00,\n",
       "        -6.64035470e-01, -3.78358570e-01, -7.91615271e-01,\n",
       "         8.59548109e-01, -2.30788995e-01, -6.56610281e-02,\n",
       "        -2.08636235e-01],\n",
       "       [ 1.34686857e+00, -6.06952797e-01, -1.74248214e-01,\n",
       "         4.24051421e-01, -1.64599010e+00, -4.83540950e-01,\n",
       "         5.35468250e-01,  1.16614049e+00,  1.61683109e-01,\n",
       "        -6.72833927e-01],\n",
       "       [ 1.44252413e+00, -2.21480611e-01,  3.12643137e-02,\n",
       "         1.81929588e-01, -6.29287299e-02, -5.41568460e-01,\n",
       "         4.74518418e-01, -1.16459117e+00, -5.00909391e-01,\n",
       "        -4.08560959e-01],\n",
       "       [-9.34348357e-01,  8.45101540e-02,  1.43691018e-01,\n",
       "         7.55494413e-02, -1.55645096e-01,  5.50850056e-01,\n",
       "         1.70202996e+00,  1.00609370e+00, -3.13491977e+00,\n",
       "         1.13953350e+00],\n",
       "       [-1.86979936e+00, -1.77911304e+00,  1.27762897e-01,\n",
       "        -1.35101776e+00,  1.55396720e+00,  6.96965751e-01,\n",
       "        -8.11461153e-01, -1.64325093e+00,  3.30658868e-01,\n",
       "         1.22495627e+00],\n",
       "       [ 9.61715686e-02,  1.87681542e+00,  5.33780584e-01,\n",
       "         7.98360041e-01, -3.06074500e-01,  3.77973887e-01,\n",
       "        -2.26478047e-01, -1.88574454e+00,  2.47251097e+00,\n",
       "        -1.46856587e-01],\n",
       "       [ 1.15649198e-01,  1.33043062e+00,  1.09594712e-01,\n",
       "         2.15479072e-01,  4.29070088e-01, -1.15126562e+00,\n",
       "         1.52475348e+00,  3.60535849e-01, -6.10893022e-01,\n",
       "         9.30246033e-01],\n",
       "       [ 3.56513015e-01, -9.52160595e-01,  1.51927786e-01,\n",
       "         6.34885971e-04,  3.35023228e-01,  3.74799388e-01,\n",
       "         7.13816158e-01, -1.20081348e+00,  1.38116116e-03,\n",
       "        -9.21460027e-01],\n",
       "       [ 4.96227866e-01, -1.33166667e+00, -2.19057049e+00,\n",
       "        -4.36072065e-01,  2.54508722e+00,  1.15008128e+00,\n",
       "         8.44454668e-02,  2.48624780e+00, -1.94355403e-01,\n",
       "        -1.86213348e-01]])"
      ]
     },
     "execution_count": 87,
     "metadata": {},
     "output_type": "execute_result"
    }
   ],
   "source": [
    "#random of elements:\n",
    "x=np.random.randn(10,10)\n",
    "np.random.seed(0)\n",
    "x"
   ]
  },
  {
   "cell_type": "code",
   "execution_count": 88,
   "id": "5ca88f82",
   "metadata": {},
   "outputs": [
    {
     "data": {
      "text/plain": [
       "array([[0.5488135 , 0.71518937, 0.60276338],\n",
       "       [0.54488318, 0.4236548 , 0.64589411],\n",
       "       [0.43758721, 0.891773  , 0.96366276]])"
      ]
     },
     "execution_count": 88,
     "metadata": {},
     "output_type": "execute_result"
    }
   ],
   "source": [
    "y=np.random.rand(3,3)\n",
    "np.random.seed(8)\n",
    "y"
   ]
  },
  {
   "cell_type": "code",
   "execution_count": 89,
   "id": "3e97ac67",
   "metadata": {},
   "outputs": [],
   "source": [
    "import pandas as pd\n"
   ]
  },
  {
   "cell_type": "code",
   "execution_count": 92,
   "id": "59996d3b",
   "metadata": {},
   "outputs": [
    {
     "data": {
      "text/html": [
       "<div>\n",
       "<style scoped>\n",
       "    .dataframe tbody tr th:only-of-type {\n",
       "        vertical-align: middle;\n",
       "    }\n",
       "\n",
       "    .dataframe tbody tr th {\n",
       "        vertical-align: top;\n",
       "    }\n",
       "\n",
       "    .dataframe thead th {\n",
       "        text-align: right;\n",
       "    }\n",
       "</style>\n",
       "<table border=\"1\" class=\"dataframe\">\n",
       "  <thead>\n",
       "    <tr style=\"text-align: right;\">\n",
       "      <th></th>\n",
       "      <th>col_1</th>\n",
       "      <th>1</th>\n",
       "      <th>2</th>\n",
       "      <th>3</th>\n",
       "      <th>4</th>\n",
       "      <th>5</th>\n",
       "      <th>6</th>\n",
       "      <th>7</th>\n",
       "      <th>8</th>\n",
       "      <th>9</th>\n",
       "    </tr>\n",
       "  </thead>\n",
       "  <tbody>\n",
       "    <tr>\n",
       "      <th>0</th>\n",
       "      <td>0.091205</td>\n",
       "      <td>1.091283</td>\n",
       "      <td>-1.946970</td>\n",
       "      <td>-1.386350</td>\n",
       "      <td>-2.296492</td>\n",
       "      <td>2.409834</td>\n",
       "      <td>1.727836</td>\n",
       "      <td>2.204556</td>\n",
       "      <td>0.794828</td>\n",
       "      <td>0.976421</td>\n",
       "    </tr>\n",
       "    <tr>\n",
       "      <th>1</th>\n",
       "      <td>-1.183427</td>\n",
       "      <td>1.916364</td>\n",
       "      <td>-1.123327</td>\n",
       "      <td>-0.664035</td>\n",
       "      <td>-0.378359</td>\n",
       "      <td>-0.791615</td>\n",
       "      <td>0.859548</td>\n",
       "      <td>-0.230789</td>\n",
       "      <td>-0.065661</td>\n",
       "      <td>-0.208636</td>\n",
       "    </tr>\n",
       "    <tr>\n",
       "      <th>2</th>\n",
       "      <td>1.346869</td>\n",
       "      <td>-0.606953</td>\n",
       "      <td>-0.174248</td>\n",
       "      <td>0.424051</td>\n",
       "      <td>-1.645990</td>\n",
       "      <td>-0.483541</td>\n",
       "      <td>0.535468</td>\n",
       "      <td>1.166140</td>\n",
       "      <td>0.161683</td>\n",
       "      <td>-0.672834</td>\n",
       "    </tr>\n",
       "    <tr>\n",
       "      <th>3</th>\n",
       "      <td>1.442524</td>\n",
       "      <td>-0.221481</td>\n",
       "      <td>0.031264</td>\n",
       "      <td>0.181930</td>\n",
       "      <td>-0.062929</td>\n",
       "      <td>-0.541568</td>\n",
       "      <td>0.474518</td>\n",
       "      <td>-1.164591</td>\n",
       "      <td>-0.500909</td>\n",
       "      <td>-0.408561</td>\n",
       "    </tr>\n",
       "    <tr>\n",
       "      <th>4</th>\n",
       "      <td>-0.934348</td>\n",
       "      <td>0.084510</td>\n",
       "      <td>0.143691</td>\n",
       "      <td>0.075549</td>\n",
       "      <td>-0.155645</td>\n",
       "      <td>0.550850</td>\n",
       "      <td>1.702030</td>\n",
       "      <td>1.006094</td>\n",
       "      <td>-3.134920</td>\n",
       "      <td>1.139534</td>\n",
       "    </tr>\n",
       "    <tr>\n",
       "      <th>5</th>\n",
       "      <td>-1.869799</td>\n",
       "      <td>-1.779113</td>\n",
       "      <td>0.127763</td>\n",
       "      <td>-1.351018</td>\n",
       "      <td>1.553967</td>\n",
       "      <td>0.696966</td>\n",
       "      <td>-0.811461</td>\n",
       "      <td>-1.643251</td>\n",
       "      <td>0.330659</td>\n",
       "      <td>1.224956</td>\n",
       "    </tr>\n",
       "    <tr>\n",
       "      <th>6</th>\n",
       "      <td>0.096172</td>\n",
       "      <td>1.876815</td>\n",
       "      <td>0.533781</td>\n",
       "      <td>0.798360</td>\n",
       "      <td>-0.306074</td>\n",
       "      <td>0.377974</td>\n",
       "      <td>-0.226478</td>\n",
       "      <td>-1.885745</td>\n",
       "      <td>2.472511</td>\n",
       "      <td>-0.146857</td>\n",
       "    </tr>\n",
       "    <tr>\n",
       "      <th>7</th>\n",
       "      <td>0.115649</td>\n",
       "      <td>1.330431</td>\n",
       "      <td>0.109595</td>\n",
       "      <td>0.215479</td>\n",
       "      <td>0.429070</td>\n",
       "      <td>-1.151266</td>\n",
       "      <td>1.524753</td>\n",
       "      <td>0.360536</td>\n",
       "      <td>-0.610893</td>\n",
       "      <td>0.930246</td>\n",
       "    </tr>\n",
       "    <tr>\n",
       "      <th>8</th>\n",
       "      <td>0.356513</td>\n",
       "      <td>-0.952161</td>\n",
       "      <td>0.151928</td>\n",
       "      <td>0.000635</td>\n",
       "      <td>0.335023</td>\n",
       "      <td>0.374799</td>\n",
       "      <td>0.713816</td>\n",
       "      <td>-1.200813</td>\n",
       "      <td>0.001381</td>\n",
       "      <td>-0.921460</td>\n",
       "    </tr>\n",
       "    <tr>\n",
       "      <th>9</th>\n",
       "      <td>0.496228</td>\n",
       "      <td>-1.331667</td>\n",
       "      <td>-2.190570</td>\n",
       "      <td>-0.436072</td>\n",
       "      <td>2.545087</td>\n",
       "      <td>1.150081</td>\n",
       "      <td>0.084445</td>\n",
       "      <td>2.486248</td>\n",
       "      <td>-0.194355</td>\n",
       "      <td>-0.186213</td>\n",
       "    </tr>\n",
       "  </tbody>\n",
       "</table>\n",
       "</div>"
      ],
      "text/plain": [
       "      col_1         1         2         3         4         5         6  \\\n",
       "0  0.091205  1.091283 -1.946970 -1.386350 -2.296492  2.409834  1.727836   \n",
       "1 -1.183427  1.916364 -1.123327 -0.664035 -0.378359 -0.791615  0.859548   \n",
       "2  1.346869 -0.606953 -0.174248  0.424051 -1.645990 -0.483541  0.535468   \n",
       "3  1.442524 -0.221481  0.031264  0.181930 -0.062929 -0.541568  0.474518   \n",
       "4 -0.934348  0.084510  0.143691  0.075549 -0.155645  0.550850  1.702030   \n",
       "5 -1.869799 -1.779113  0.127763 -1.351018  1.553967  0.696966 -0.811461   \n",
       "6  0.096172  1.876815  0.533781  0.798360 -0.306074  0.377974 -0.226478   \n",
       "7  0.115649  1.330431  0.109595  0.215479  0.429070 -1.151266  1.524753   \n",
       "8  0.356513 -0.952161  0.151928  0.000635  0.335023  0.374799  0.713816   \n",
       "9  0.496228 -1.331667 -2.190570 -0.436072  2.545087  1.150081  0.084445   \n",
       "\n",
       "          7         8         9  \n",
       "0  2.204556  0.794828  0.976421  \n",
       "1 -0.230789 -0.065661 -0.208636  \n",
       "2  1.166140  0.161683 -0.672834  \n",
       "3 -1.164591 -0.500909 -0.408561  \n",
       "4  1.006094 -3.134920  1.139534  \n",
       "5 -1.643251  0.330659  1.224956  \n",
       "6 -1.885745  2.472511 -0.146857  \n",
       "7  0.360536 -0.610893  0.930246  \n",
       "8 -1.200813  0.001381 -0.921460  \n",
       "9  2.486248 -0.194355 -0.186213  "
      ]
     },
     "execution_count": 92,
     "metadata": {},
     "output_type": "execute_result"
    }
   ],
   "source": [
    "df=pd.DataFrame(x)\n",
    "df=df.rename(columns={0:\"col_1\"})\n",
    "df"
   ]
  },
  {
   "cell_type": "code",
   "execution_count": 91,
   "id": "d5fcba1f",
   "metadata": {},
   "outputs": [
    {
     "data": {
      "text/plain": [
       "<AxesSubplot:ylabel='Density'>"
      ]
     },
     "execution_count": 91,
     "metadata": {},
     "output_type": "execute_result"
    },
    {
     "data": {
      "image/png": "[encoded data removed]",
      "text/plain": [
       "<Figure size 432x288 with 1 Axes>"
      ]
     },
     "metadata": {
      "needs_background": "light"
     },
     "output_type": "display_data"
    }
   ],
   "source": [
    "df[\"col_1\"].plot(kind=\"kde\")"
   ]
  },
  {
   "cell_type": "code",
   "execution_count": null,
   "id": "af72c9a5",
   "metadata": {},
   "outputs": [],
   "source": []
  }
 ],
 "metadata": {
  "kernelspec": {
   "display_name": "Python 3 (ipykernel)",
   "language": "python",
   "name": "python3"
  },
  "language_info": {
   "codemirror_mode": {
    "name": "ipython",
    "version": 3
   },
   "file_extension": ".py",
   "mimetype": "text/x-python",
   "name": "python",
   "nbconvert_exporter": "python",
   "pygments_lexer": "ipython3",
   "version": "3.9.12"
  }
 },
 "nbformat": 4,
 "nbformat_minor": 5
}
